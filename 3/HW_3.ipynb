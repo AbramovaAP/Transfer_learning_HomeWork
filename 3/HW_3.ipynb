{
  "cells": [
    {
      "cell_type": "markdown",
      "metadata": {
        "id": "W2yOM48zCXEi"
      },
      "source": [
        "# Transfer learning\n",
        "\n",
        "## Урок 3. Model as a service и разные применения Transfer learning\n",
        "\n",
        "### Практическое задание\n",
        "\n",
        "Реализуйте классификацию эмоциональной окрашенности текстов при помощи объекта pipeline.\n",
        "1. Найдите тип задач Sentiment Analysis на huggingface.co\n",
        "2. Найдите модель для русского языка (примеры: rubert-tiny2..., rubert-base...)\n"
      ]
    },
    {
      "cell_type": "code",
      "execution_count": 1,
      "metadata": {
        "id": "kDjRZ7SdCTt9"
      },
      "outputs": [
        {
          "name": "stderr",
          "output_type": "stream",
          "text": [
            "e:\\Program Files (x86)\\Lib\\site-packages\\tqdm\\auto.py:22: TqdmWarning: IProgress not found. Please update jupyter and ipywidgets. See https://ipywidgets.readthedocs.io/en/stable/user_install.html\n",
            "  from .autonotebook import tqdm as notebook_tqdm\n"
          ]
        }
      ],
      "source": [
        "from transformers import pipeline"
      ]
    },
    {
      "cell_type": "markdown",
      "metadata": {
        "id": "vLflGEetNoGf"
      },
      "source": [
        "Модель RuBERT, доработанная для классификации эмоций в коротких текстах на русском языке.  \n",
        "https://huggingface.co/seara/rubert-base-cased-ru-go-emotions"
      ]
    },
    {
      "cell_type": "code",
      "execution_count": 2,
      "metadata": {
        "id": "IWV6E2NfC0Dd"
      },
      "outputs": [
        {
          "name": "stderr",
          "output_type": "stream",
          "text": [
            "e:\\Program Files (x86)\\Lib\\site-packages\\huggingface_hub\\file_download.py:147: UserWarning: `huggingface_hub` cache-system uses symlinks by default to efficiently store duplicated files but your machine does not support them in C:\\Users\\79858\\.cache\\huggingface\\hub\\models--seara--rubert-base-cased-ru-go-emotions. Caching files will still work but in a degraded version that might require more space on your disk. This warning can be disabled by setting the `HF_HUB_DISABLE_SYMLINKS_WARNING` environment variable. For more details, see https://huggingface.co/docs/huggingface_hub/how-to-cache#limitations.\n",
            "To support symlinks on Windows, you either need to activate Developer Mode or to run Python as an administrator. In order to activate developer mode, see this article: https://docs.microsoft.com/en-us/windows/apps/get-started/enable-your-device-for-development\n",
            "  warnings.warn(message)\n"
          ]
        }
      ],
      "source": [
        "model = pipeline(model=\"seara/rubert-base-cased-ru-go-emotions\")"
      ]
    },
    {
      "cell_type": "code",
      "execution_count": 44,
      "metadata": {
        "id": "A5y0aCvDCz_3"
      },
      "outputs": [],
      "source": [
        "text1 = [\"Отличный товар\",\n",
        "        \"Мне не понравилось\",\n",
        "        \"Прекрасно выглядит, ничего не меняйте!\",\n",
        "        \"Ничего не понял\",\n",
        "        \"У меня не работала розетка, в остальном все отлично\"]"
      ]
    },
    {
      "cell_type": "code",
      "execution_count": 45,
      "metadata": {
        "colab": {
          "base_uri": "https://localhost:8080/"
        },
        "id": "GzyRLjRVCz8l",
        "outputId": "79514ac2-b0d3-401f-964f-df3c65e2338b"
      },
      "outputs": [
        {
          "data": {
            "text/plain": [
              "[{'label': 'positive', 'score': 0.9941100478172302},\n",
              " {'label': 'neutral', 'score': 0.5911949276924133},\n",
              " {'label': 'positive', 'score': 0.9389205574989319},\n",
              " {'label': 'negative', 'score': 0.5240057706832886},\n",
              " {'label': 'positive', 'score': 0.6734207272529602}]"
            ]
          },
          "execution_count": 45,
          "metadata": {},
          "output_type": "execute_result"
        }
      ],
      "source": [
        "model(text1)"
      ]
    },
    {
      "cell_type": "code",
      "execution_count": 46,
      "metadata": {
        "id": "XCDAa_wiE7uu"
      },
      "outputs": [],
      "source": [
        "label_ru = {\n",
        "'admiration': 'восхищение',\n",
        "'amusement': 'веселье',\n",
        "'anger': 'злость',\n",
        "'annoyance': 'раздражение',\n",
        "'approval': 'одобрение',\n",
        "'caring': 'забота',\n",
        "'confusion': 'непонимание',\n",
        "'curiosity': 'любопытство',\n",
        "'desire': 'желание',\n",
        "'disappointment': 'разочарование',\n",
        "'disapproval': 'неодобрение',\n",
        "'disgust': 'отвращение',\n",
        "'embarrassment': 'смущение',\n",
        "'excitement': 'возбуждение',\n",
        "'fear': 'страх',\n",
        "'gratitude': 'признательность',\n",
        "'grief': 'горе',\n",
        "'joy': 'радость',\n",
        "'love': 'любовь',\n",
        "'nervousness': 'нервозность',\n",
        "'optimism': 'оптимизм',\n",
        "'pride': 'гордость',\n",
        "'realization': 'осознание',\n",
        "'relief': 'облегчение',\n",
        "'remorse': 'раскаяние',\n",
        "'sadness': 'грусть',\n",
        "'surprise': 'удивление',\n",
        "'laziness': 'лень',\n",
        "'neutral': 'нейтральность'\n",
        "}"
      ]
    },
    {
      "cell_type": "code",
      "execution_count": 28,
      "metadata": {
        "id": "xizzsbqoKr1H"
      },
      "outputs": [],
      "source": [
        "def get_label_ru(text, label_ru, model):\n",
        "  label = model[0]['label']\n",
        "  score = model[0]['score']\n",
        "  return label_ru[label], round(score, 2)"
      ]
    },
    {
      "cell_type": "code",
      "execution_count": 81,
      "metadata": {
        "id": "waYfuE7-J7gv"
      },
      "outputs": [],
      "source": [
        "text2 = ['А вы меня прекрасно обманули!']"
      ]
    },
    {
      "cell_type": "code",
      "execution_count": 82,
      "metadata": {
        "colab": {
          "base_uri": "https://localhost:8080/"
        },
        "id": "J0N8JwyiLjGH",
        "outputId": "dacbece0-75db-494e-b27f-31a52e62dac9"
      },
      "outputs": [
        {
          "name": "stdout",
          "output_type": "stream",
          "text": [
            "('негативный', 0.73)\n"
          ]
        }
      ],
      "source": [
        "for txt in text2:\n",
        "  print(get_label_ru(txt, label_ru, model(txt)))"
      ]
    },
    {
      "cell_type": "markdown",
      "metadata": {
        "id": "u-KaLYXKOLAt"
      },
      "source": [
        "Модель RuBERT-tiny2, адаптированная для классификации коротких текстов на русском языке по тональности.\n",
        "https://huggingface.co/seara/rubert-tiny2-russian-sentiment"
      ]
    },
    {
      "cell_type": "code",
      "execution_count": 83,
      "metadata": {
        "id": "CewpEw52NhTn"
      },
      "outputs": [],
      "source": [
        "model = pipeline(model=\"seara/rubert-tiny2-russian-sentiment\")"
      ]
    },
    {
      "cell_type": "code",
      "execution_count": 84,
      "metadata": {
        "colab": {
          "base_uri": "https://localhost:8080/"
        },
        "id": "Wn0NIL4yNhD2",
        "outputId": "6bd6c5c8-08a6-459d-a8bf-9a06ea3217f9"
      },
      "outputs": [
        {
          "data": {
            "text/plain": [
              "[{'label': 'positive', 'score': 0.9941100478172302},\n",
              " {'label': 'neutral', 'score': 0.5911949276924133},\n",
              " {'label': 'positive', 'score': 0.9389205574989319},\n",
              " {'label': 'negative', 'score': 0.5240057706832886},\n",
              " {'label': 'positive', 'score': 0.6734207272529602}]"
            ]
          },
          "execution_count": 84,
          "metadata": {},
          "output_type": "execute_result"
        }
      ],
      "source": [
        "model(text1)"
      ]
    },
    {
      "cell_type": "code",
      "execution_count": 85,
      "metadata": {
        "id": "yi7sL_0FKAgx"
      },
      "outputs": [],
      "source": [
        "label_ru = {\n",
        "'neutral': 'нейтральный',\n",
        "'positive': 'позитивный',\n",
        "'negative': 'негативный'\n",
        "}"
      ]
    },
    {
      "cell_type": "code",
      "execution_count": 86,
      "metadata": {
        "colab": {
          "base_uri": "https://localhost:8080/"
        },
        "id": "_mBJUuTwPCL-",
        "outputId": "80e9a271-6c47-437e-dfc7-56fb9746260a"
      },
      "outputs": [
        {
          "name": "stdout",
          "output_type": "stream",
          "text": [
            "('негативный', 0.73)\n"
          ]
        }
      ],
      "source": [
        "for txt in text2:\n",
        "  print(get_label_ru(txt, label_ru, model(txt)))"
      ]
    },
    {
      "cell_type": "code",
      "execution_count": 14,
      "metadata": {
        "id": "nSZz1ZTYPFzP"
      },
      "outputs": [],
      "source": []
    }
  ],
  "metadata": {
    "colab": {
      "provenance": []
    },
    "kernelspec": {
      "display_name": "Python 3",
      "name": "python3"
    },
    "language_info": {
      "codemirror_mode": {
        "name": "ipython",
        "version": 3
      },
      "file_extension": ".py",
      "mimetype": "text/x-python",
      "name": "python",
      "nbconvert_exporter": "python",
      "pygments_lexer": "ipython3",
      "version": "3.11.8"
    }
  },
  "nbformat": 4,
  "nbformat_minor": 0
}
